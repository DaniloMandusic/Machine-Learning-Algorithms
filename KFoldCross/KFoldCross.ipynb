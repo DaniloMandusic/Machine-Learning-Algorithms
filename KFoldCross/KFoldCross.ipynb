{
 "cells": [
  {
   "cell_type": "code",
   "execution_count": null,
   "id": "initial_id",
   "metadata": {
    "collapsed": true
   },
   "outputs": [],
   "source": [
    "'''\n",
    "task: compare scores of multiple algorithms on iris flower dataset using k fold cross classification\n",
    "'''"
   ]
  },
  {
   "cell_type": "code",
   "execution_count": 1,
   "outputs": [],
   "source": [
    "from sklearn.datasets import load_iris\n",
    "from sklearn.model_selection import cross_val_score\n",
    "from sklearn.linear_model import LogisticRegression\n",
    "from sklearn.tree import DecisionTreeClassifier\n",
    "from sklearn.svm import SVC\n",
    "from sklearn.ensemble import RandomForestClassifier\n",
    "import numpy as np"
   ],
   "metadata": {
    "collapsed": false,
    "ExecuteTime": {
     "end_time": "2023-10-08T14:19:07.236479600Z",
     "start_time": "2023-10-08T14:19:04.145861200Z"
    }
   },
   "id": "e00e1e531a06e844"
  },
  {
   "cell_type": "code",
   "execution_count": 2,
   "outputs": [],
   "source": [
    "iris = load_iris()"
   ],
   "metadata": {
    "collapsed": false,
    "ExecuteTime": {
     "end_time": "2023-10-08T14:19:31.468114200Z",
     "start_time": "2023-10-08T14:19:31.445091900Z"
    }
   },
   "id": "df1d73cdcc79828d"
  },
  {
   "cell_type": "code",
   "execution_count": 3,
   "outputs": [
    {
     "name": "stderr",
     "output_type": "stream",
     "text": [
      "c:\\users\\danilo\\pycharmprojects\\machinelearning1\\venv\\lib\\site-packages\\sklearn\\linear_model\\_logistic.py:460: ConvergenceWarning: lbfgs failed to converge (status=1):\n",
      "STOP: TOTAL NO. of ITERATIONS REACHED LIMIT.\n",
      "\n",
      "Increase the number of iterations (max_iter) or scale the data as shown in:\n",
      "    https://scikit-learn.org/stable/modules/preprocessing.html\n",
      "Please also refer to the documentation for alternative solver options:\n",
      "    https://scikit-learn.org/stable/modules/linear_model.html#logistic-regression\n",
      "  n_iter_i = _check_optimize_result(\n"
     ]
    },
    {
     "data": {
      "text/plain": "array([0.96666667, 1.        , 0.93333333, 0.96666667, 1.        ])"
     },
     "execution_count": 3,
     "metadata": {},
     "output_type": "execute_result"
    }
   ],
   "source": [
    "#logistic regression\n",
    "logisticRegressionScores = cross_val_score(LogisticRegression(), iris.data, iris.target) #use model, split datasets and do tests\n",
    "logisticRegressionScores"
   ],
   "metadata": {
    "collapsed": false,
    "ExecuteTime": {
     "end_time": "2023-10-08T14:21:18.744671700Z",
     "start_time": "2023-10-08T14:21:18.599756300Z"
    }
   },
   "id": "ff5506ae4524d418"
  },
  {
   "cell_type": "code",
   "execution_count": 4,
   "outputs": [
    {
     "data": {
      "text/plain": "0.9733333333333334"
     },
     "execution_count": 4,
     "metadata": {},
     "output_type": "execute_result"
    }
   ],
   "source": [
    "np.average(logisticRegressionScores)"
   ],
   "metadata": {
    "collapsed": false,
    "ExecuteTime": {
     "end_time": "2023-10-08T14:21:53.287592700Z",
     "start_time": "2023-10-08T14:21:53.268580900Z"
    }
   },
   "id": "1b5d859d98c8deed"
  },
  {
   "cell_type": "code",
   "execution_count": 5,
   "outputs": [
    {
     "data": {
      "text/plain": "array([0.96666667, 0.96666667, 0.9       , 0.96666667, 1.        ])"
     },
     "execution_count": 5,
     "metadata": {},
     "output_type": "execute_result"
    }
   ],
   "source": [
    "#decision tree\n",
    "decisionTreeScores = cross_val_score(DecisionTreeClassifier(), iris.data, iris.target)\n",
    "decisionTreeScores"
   ],
   "metadata": {
    "collapsed": false,
    "ExecuteTime": {
     "end_time": "2023-10-08T14:23:36.376625700Z",
     "start_time": "2023-10-08T14:23:36.346598500Z"
    }
   },
   "id": "343f64c19fb84248"
  },
  {
   "cell_type": "code",
   "execution_count": 6,
   "outputs": [
    {
     "data": {
      "text/plain": "0.9600000000000002"
     },
     "execution_count": 6,
     "metadata": {},
     "output_type": "execute_result"
    }
   ],
   "source": [
    "np.average(decisionTreeScores)"
   ],
   "metadata": {
    "collapsed": false,
    "ExecuteTime": {
     "end_time": "2023-10-08T14:23:53.331379600Z",
     "start_time": "2023-10-08T14:23:53.313947900Z"
    }
   },
   "id": "8d25d04ca4de369c"
  },
  {
   "cell_type": "code",
   "execution_count": 7,
   "outputs": [
    {
     "data": {
      "text/plain": "array([0.96666667, 0.96666667, 0.96666667, 0.93333333, 1.        ])"
     },
     "execution_count": 7,
     "metadata": {},
     "output_type": "execute_result"
    }
   ],
   "source": [
    "#support vector machine\n",
    "svmScores = cross_val_score(SVC(), iris.data, iris.target)\n",
    "svmScores"
   ],
   "metadata": {
    "collapsed": false,
    "ExecuteTime": {
     "end_time": "2023-10-08T14:24:47.485544400Z",
     "start_time": "2023-10-08T14:24:47.465526700Z"
    }
   },
   "id": "def0499d9dfba72c"
  },
  {
   "cell_type": "code",
   "execution_count": 8,
   "outputs": [
    {
     "data": {
      "text/plain": "0.9666666666666666"
     },
     "execution_count": 8,
     "metadata": {},
     "output_type": "execute_result"
    }
   ],
   "source": [
    "np.average(svmScores)"
   ],
   "metadata": {
    "collapsed": false,
    "ExecuteTime": {
     "end_time": "2023-10-08T14:24:55.111419200Z",
     "start_time": "2023-10-08T14:24:55.092401600Z"
    }
   },
   "id": "af092b58ec056eae"
  },
  {
   "cell_type": "code",
   "execution_count": 9,
   "outputs": [
    {
     "data": {
      "text/plain": "array([0.96666667, 0.96666667, 0.93333333, 0.96666667, 1.        ])"
     },
     "execution_count": 9,
     "metadata": {},
     "output_type": "execute_result"
    }
   ],
   "source": [
    "randomForestScores = cross_val_score(RandomForestClassifier(), iris.data, iris.target)\n",
    "randomForestScores"
   ],
   "metadata": {
    "collapsed": false,
    "ExecuteTime": {
     "end_time": "2023-10-08T14:25:44.643485700Z",
     "start_time": "2023-10-08T14:25:44.247125300Z"
    }
   },
   "id": "2e0579a1e0f5aa2e"
  },
  {
   "cell_type": "code",
   "execution_count": 10,
   "outputs": [
    {
     "data": {
      "text/plain": "0.9666666666666668"
     },
     "execution_count": 10,
     "metadata": {},
     "output_type": "execute_result"
    }
   ],
   "source": [
    "np.average(randomForestScores)"
   ],
   "metadata": {
    "collapsed": false,
    "ExecuteTime": {
     "end_time": "2023-10-08T14:25:57.602858100Z",
     "start_time": "2023-10-08T14:25:57.581838700Z"
    }
   },
   "id": "47a044879511e7d8"
  }
 ],
 "metadata": {
  "kernelspec": {
   "display_name": "Python 3",
   "language": "python",
   "name": "python3"
  },
  "language_info": {
   "codemirror_mode": {
    "name": "ipython",
    "version": 2
   },
   "file_extension": ".py",
   "mimetype": "text/x-python",
   "name": "python",
   "nbconvert_exporter": "python",
   "pygments_lexer": "ipython2",
   "version": "2.7.6"
  }
 },
 "nbformat": 4,
 "nbformat_minor": 5
}
