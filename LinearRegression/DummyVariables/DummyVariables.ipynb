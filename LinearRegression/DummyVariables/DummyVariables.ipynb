{
 "cells": [
  {
   "cell_type": "code",
   "execution_count": null,
   "id": "initial_id",
   "metadata": {
    "collapsed": true
   },
   "outputs": [],
   "source": [
    "'''\n",
    "task: predict car price based on car model\n",
    "\n",
    "steps:\n",
    "    load data - Done\n",
    "    make dummy variables\n",
    "    train model\n",
    "    predict\n",
    "'''"
   ]
  },
  {
   "cell_type": "code",
   "execution_count": 10,
   "outputs": [],
   "source": [
    "import pandas as pd\n",
    "from sklearn.linear_model import LinearRegression"
   ],
   "metadata": {
    "collapsed": false,
    "ExecuteTime": {
     "end_time": "2023-09-26T19:39:58.989065Z",
     "start_time": "2023-09-26T19:39:56.691846500Z"
    }
   },
   "id": "4fdc65f40beac4ad"
  },
  {
   "cell_type": "code",
   "execution_count": 2,
   "outputs": [
    {
     "data": {
      "text/plain": "                Car Model  Mileage  Sell Price($)  Age(yrs)\n0                  BMW X5    69000          18000         6\n1                  BMW X5    35000          34000         3\n2                  BMW X5    57000          26100         5\n3                  BMW X5    22500          40000         2\n4                  BMW X5    46000          31500         4\n5                 Audi A5    59000          29400         5\n6                 Audi A5    52000          32000         5\n7                 Audi A5    72000          19300         6\n8                 Audi A5    91000          12000         8\n9   Mercedez Benz C class    67000          22000         6\n10  Mercedez Benz C class    83000          20000         7\n11  Mercedez Benz C class    79000          21000         7\n12  Mercedez Benz C class    59000          33000         5",
      "text/html": "<div>\n<style scoped>\n    .dataframe tbody tr th:only-of-type {\n        vertical-align: middle;\n    }\n\n    .dataframe tbody tr th {\n        vertical-align: top;\n    }\n\n    .dataframe thead th {\n        text-align: right;\n    }\n</style>\n<table border=\"1\" class=\"dataframe\">\n  <thead>\n    <tr style=\"text-align: right;\">\n      <th></th>\n      <th>Car Model</th>\n      <th>Mileage</th>\n      <th>Sell Price($)</th>\n      <th>Age(yrs)</th>\n    </tr>\n  </thead>\n  <tbody>\n    <tr>\n      <th>0</th>\n      <td>BMW X5</td>\n      <td>69000</td>\n      <td>18000</td>\n      <td>6</td>\n    </tr>\n    <tr>\n      <th>1</th>\n      <td>BMW X5</td>\n      <td>35000</td>\n      <td>34000</td>\n      <td>3</td>\n    </tr>\n    <tr>\n      <th>2</th>\n      <td>BMW X5</td>\n      <td>57000</td>\n      <td>26100</td>\n      <td>5</td>\n    </tr>\n    <tr>\n      <th>3</th>\n      <td>BMW X5</td>\n      <td>22500</td>\n      <td>40000</td>\n      <td>2</td>\n    </tr>\n    <tr>\n      <th>4</th>\n      <td>BMW X5</td>\n      <td>46000</td>\n      <td>31500</td>\n      <td>4</td>\n    </tr>\n    <tr>\n      <th>5</th>\n      <td>Audi A5</td>\n      <td>59000</td>\n      <td>29400</td>\n      <td>5</td>\n    </tr>\n    <tr>\n      <th>6</th>\n      <td>Audi A5</td>\n      <td>52000</td>\n      <td>32000</td>\n      <td>5</td>\n    </tr>\n    <tr>\n      <th>7</th>\n      <td>Audi A5</td>\n      <td>72000</td>\n      <td>19300</td>\n      <td>6</td>\n    </tr>\n    <tr>\n      <th>8</th>\n      <td>Audi A5</td>\n      <td>91000</td>\n      <td>12000</td>\n      <td>8</td>\n    </tr>\n    <tr>\n      <th>9</th>\n      <td>Mercedez Benz C class</td>\n      <td>67000</td>\n      <td>22000</td>\n      <td>6</td>\n    </tr>\n    <tr>\n      <th>10</th>\n      <td>Mercedez Benz C class</td>\n      <td>83000</td>\n      <td>20000</td>\n      <td>7</td>\n    </tr>\n    <tr>\n      <th>11</th>\n      <td>Mercedez Benz C class</td>\n      <td>79000</td>\n      <td>21000</td>\n      <td>7</td>\n    </tr>\n    <tr>\n      <th>12</th>\n      <td>Mercedez Benz C class</td>\n      <td>59000</td>\n      <td>33000</td>\n      <td>5</td>\n    </tr>\n  </tbody>\n</table>\n</div>"
     },
     "execution_count": 2,
     "metadata": {},
     "output_type": "execute_result"
    }
   ],
   "source": [
    "df = pd.read_csv('Sources/cars.csv')\n",
    "df"
   ],
   "metadata": {
    "collapsed": false,
    "ExecuteTime": {
     "end_time": "2023-09-26T19:30:00.011817600Z",
     "start_time": "2023-09-26T19:29:59.980789300Z"
    }
   },
   "id": "4fe4eb78fbfd2ce8"
  },
  {
   "cell_type": "code",
   "execution_count": 4,
   "outputs": [
    {
     "data": {
      "text/plain": "    Audi A5  BMW X5  Mercedez Benz C class\n0     False    True                  False\n1     False    True                  False\n2     False    True                  False\n3     False    True                  False\n4     False    True                  False\n5      True   False                  False\n6      True   False                  False\n7      True   False                  False\n8      True   False                  False\n9     False   False                   True\n10    False   False                   True\n11    False   False                   True\n12    False   False                   True",
      "text/html": "<div>\n<style scoped>\n    .dataframe tbody tr th:only-of-type {\n        vertical-align: middle;\n    }\n\n    .dataframe tbody tr th {\n        vertical-align: top;\n    }\n\n    .dataframe thead th {\n        text-align: right;\n    }\n</style>\n<table border=\"1\" class=\"dataframe\">\n  <thead>\n    <tr style=\"text-align: right;\">\n      <th></th>\n      <th>Audi A5</th>\n      <th>BMW X5</th>\n      <th>Mercedez Benz C class</th>\n    </tr>\n  </thead>\n  <tbody>\n    <tr>\n      <th>0</th>\n      <td>False</td>\n      <td>True</td>\n      <td>False</td>\n    </tr>\n    <tr>\n      <th>1</th>\n      <td>False</td>\n      <td>True</td>\n      <td>False</td>\n    </tr>\n    <tr>\n      <th>2</th>\n      <td>False</td>\n      <td>True</td>\n      <td>False</td>\n    </tr>\n    <tr>\n      <th>3</th>\n      <td>False</td>\n      <td>True</td>\n      <td>False</td>\n    </tr>\n    <tr>\n      <th>4</th>\n      <td>False</td>\n      <td>True</td>\n      <td>False</td>\n    </tr>\n    <tr>\n      <th>5</th>\n      <td>True</td>\n      <td>False</td>\n      <td>False</td>\n    </tr>\n    <tr>\n      <th>6</th>\n      <td>True</td>\n      <td>False</td>\n      <td>False</td>\n    </tr>\n    <tr>\n      <th>7</th>\n      <td>True</td>\n      <td>False</td>\n      <td>False</td>\n    </tr>\n    <tr>\n      <th>8</th>\n      <td>True</td>\n      <td>False</td>\n      <td>False</td>\n    </tr>\n    <tr>\n      <th>9</th>\n      <td>False</td>\n      <td>False</td>\n      <td>True</td>\n    </tr>\n    <tr>\n      <th>10</th>\n      <td>False</td>\n      <td>False</td>\n      <td>True</td>\n    </tr>\n    <tr>\n      <th>11</th>\n      <td>False</td>\n      <td>False</td>\n      <td>True</td>\n    </tr>\n    <tr>\n      <th>12</th>\n      <td>False</td>\n      <td>False</td>\n      <td>True</td>\n    </tr>\n  </tbody>\n</table>\n</div>"
     },
     "execution_count": 4,
     "metadata": {},
     "output_type": "execute_result"
    }
   ],
   "source": [
    "dummyVariables = pd.get_dummies(df[\"Car Model\"])\n",
    "dummyVariables"
   ],
   "metadata": {
    "collapsed": false,
    "ExecuteTime": {
     "end_time": "2023-09-26T19:31:10.991017300Z",
     "start_time": "2023-09-26T19:31:10.977005300Z"
    }
   },
   "id": "8326562a72d06694"
  },
  {
   "cell_type": "code",
   "execution_count": 6,
   "outputs": [
    {
     "data": {
      "text/plain": "                Car Model  Mileage  Sell Price($)  Age(yrs)  Audi A5  BMW X5  \\\n0                  BMW X5    69000          18000         6    False    True   \n1                  BMW X5    35000          34000         3    False    True   \n2                  BMW X5    57000          26100         5    False    True   \n3                  BMW X5    22500          40000         2    False    True   \n4                  BMW X5    46000          31500         4    False    True   \n5                 Audi A5    59000          29400         5     True   False   \n6                 Audi A5    52000          32000         5     True   False   \n7                 Audi A5    72000          19300         6     True   False   \n8                 Audi A5    91000          12000         8     True   False   \n9   Mercedez Benz C class    67000          22000         6    False   False   \n10  Mercedez Benz C class    83000          20000         7    False   False   \n11  Mercedez Benz C class    79000          21000         7    False   False   \n12  Mercedez Benz C class    59000          33000         5    False   False   \n\n    Mercedez Benz C class  \n0                   False  \n1                   False  \n2                   False  \n3                   False  \n4                   False  \n5                   False  \n6                   False  \n7                   False  \n8                   False  \n9                    True  \n10                   True  \n11                   True  \n12                   True  ",
      "text/html": "<div>\n<style scoped>\n    .dataframe tbody tr th:only-of-type {\n        vertical-align: middle;\n    }\n\n    .dataframe tbody tr th {\n        vertical-align: top;\n    }\n\n    .dataframe thead th {\n        text-align: right;\n    }\n</style>\n<table border=\"1\" class=\"dataframe\">\n  <thead>\n    <tr style=\"text-align: right;\">\n      <th></th>\n      <th>Car Model</th>\n      <th>Mileage</th>\n      <th>Sell Price($)</th>\n      <th>Age(yrs)</th>\n      <th>Audi A5</th>\n      <th>BMW X5</th>\n      <th>Mercedez Benz C class</th>\n    </tr>\n  </thead>\n  <tbody>\n    <tr>\n      <th>0</th>\n      <td>BMW X5</td>\n      <td>69000</td>\n      <td>18000</td>\n      <td>6</td>\n      <td>False</td>\n      <td>True</td>\n      <td>False</td>\n    </tr>\n    <tr>\n      <th>1</th>\n      <td>BMW X5</td>\n      <td>35000</td>\n      <td>34000</td>\n      <td>3</td>\n      <td>False</td>\n      <td>True</td>\n      <td>False</td>\n    </tr>\n    <tr>\n      <th>2</th>\n      <td>BMW X5</td>\n      <td>57000</td>\n      <td>26100</td>\n      <td>5</td>\n      <td>False</td>\n      <td>True</td>\n      <td>False</td>\n    </tr>\n    <tr>\n      <th>3</th>\n      <td>BMW X5</td>\n      <td>22500</td>\n      <td>40000</td>\n      <td>2</td>\n      <td>False</td>\n      <td>True</td>\n      <td>False</td>\n    </tr>\n    <tr>\n      <th>4</th>\n      <td>BMW X5</td>\n      <td>46000</td>\n      <td>31500</td>\n      <td>4</td>\n      <td>False</td>\n      <td>True</td>\n      <td>False</td>\n    </tr>\n    <tr>\n      <th>5</th>\n      <td>Audi A5</td>\n      <td>59000</td>\n      <td>29400</td>\n      <td>5</td>\n      <td>True</td>\n      <td>False</td>\n      <td>False</td>\n    </tr>\n    <tr>\n      <th>6</th>\n      <td>Audi A5</td>\n      <td>52000</td>\n      <td>32000</td>\n      <td>5</td>\n      <td>True</td>\n      <td>False</td>\n      <td>False</td>\n    </tr>\n    <tr>\n      <th>7</th>\n      <td>Audi A5</td>\n      <td>72000</td>\n      <td>19300</td>\n      <td>6</td>\n      <td>True</td>\n      <td>False</td>\n      <td>False</td>\n    </tr>\n    <tr>\n      <th>8</th>\n      <td>Audi A5</td>\n      <td>91000</td>\n      <td>12000</td>\n      <td>8</td>\n      <td>True</td>\n      <td>False</td>\n      <td>False</td>\n    </tr>\n    <tr>\n      <th>9</th>\n      <td>Mercedez Benz C class</td>\n      <td>67000</td>\n      <td>22000</td>\n      <td>6</td>\n      <td>False</td>\n      <td>False</td>\n      <td>True</td>\n    </tr>\n    <tr>\n      <th>10</th>\n      <td>Mercedez Benz C class</td>\n      <td>83000</td>\n      <td>20000</td>\n      <td>7</td>\n      <td>False</td>\n      <td>False</td>\n      <td>True</td>\n    </tr>\n    <tr>\n      <th>11</th>\n      <td>Mercedez Benz C class</td>\n      <td>79000</td>\n      <td>21000</td>\n      <td>7</td>\n      <td>False</td>\n      <td>False</td>\n      <td>True</td>\n    </tr>\n    <tr>\n      <th>12</th>\n      <td>Mercedez Benz C class</td>\n      <td>59000</td>\n      <td>33000</td>\n      <td>5</td>\n      <td>False</td>\n      <td>False</td>\n      <td>True</td>\n    </tr>\n  </tbody>\n</table>\n</div>"
     },
     "execution_count": 6,
     "metadata": {},
     "output_type": "execute_result"
    }
   ],
   "source": [
    "mergedDF = pd.concat([df, dummyVariables], axis='columns')\n",
    "mergedDF"
   ],
   "metadata": {
    "collapsed": false,
    "ExecuteTime": {
     "end_time": "2023-09-26T19:35:37.657366600Z",
     "start_time": "2023-09-26T19:35:37.616329200Z"
    }
   },
   "id": "24944551e7e52254"
  },
  {
   "cell_type": "code",
   "execution_count": 7,
   "outputs": [
    {
     "data": {
      "text/plain": "    Mileage  Sell Price($)  Age(yrs)  BMW X5  Mercedez Benz C class\n0     69000          18000         6    True                  False\n1     35000          34000         3    True                  False\n2     57000          26100         5    True                  False\n3     22500          40000         2    True                  False\n4     46000          31500         4    True                  False\n5     59000          29400         5   False                  False\n6     52000          32000         5   False                  False\n7     72000          19300         6   False                  False\n8     91000          12000         8   False                  False\n9     67000          22000         6   False                   True\n10    83000          20000         7   False                   True\n11    79000          21000         7   False                   True\n12    59000          33000         5   False                   True",
      "text/html": "<div>\n<style scoped>\n    .dataframe tbody tr th:only-of-type {\n        vertical-align: middle;\n    }\n\n    .dataframe tbody tr th {\n        vertical-align: top;\n    }\n\n    .dataframe thead th {\n        text-align: right;\n    }\n</style>\n<table border=\"1\" class=\"dataframe\">\n  <thead>\n    <tr style=\"text-align: right;\">\n      <th></th>\n      <th>Mileage</th>\n      <th>Sell Price($)</th>\n      <th>Age(yrs)</th>\n      <th>BMW X5</th>\n      <th>Mercedez Benz C class</th>\n    </tr>\n  </thead>\n  <tbody>\n    <tr>\n      <th>0</th>\n      <td>69000</td>\n      <td>18000</td>\n      <td>6</td>\n      <td>True</td>\n      <td>False</td>\n    </tr>\n    <tr>\n      <th>1</th>\n      <td>35000</td>\n      <td>34000</td>\n      <td>3</td>\n      <td>True</td>\n      <td>False</td>\n    </tr>\n    <tr>\n      <th>2</th>\n      <td>57000</td>\n      <td>26100</td>\n      <td>5</td>\n      <td>True</td>\n      <td>False</td>\n    </tr>\n    <tr>\n      <th>3</th>\n      <td>22500</td>\n      <td>40000</td>\n      <td>2</td>\n      <td>True</td>\n      <td>False</td>\n    </tr>\n    <tr>\n      <th>4</th>\n      <td>46000</td>\n      <td>31500</td>\n      <td>4</td>\n      <td>True</td>\n      <td>False</td>\n    </tr>\n    <tr>\n      <th>5</th>\n      <td>59000</td>\n      <td>29400</td>\n      <td>5</td>\n      <td>False</td>\n      <td>False</td>\n    </tr>\n    <tr>\n      <th>6</th>\n      <td>52000</td>\n      <td>32000</td>\n      <td>5</td>\n      <td>False</td>\n      <td>False</td>\n    </tr>\n    <tr>\n      <th>7</th>\n      <td>72000</td>\n      <td>19300</td>\n      <td>6</td>\n      <td>False</td>\n      <td>False</td>\n    </tr>\n    <tr>\n      <th>8</th>\n      <td>91000</td>\n      <td>12000</td>\n      <td>8</td>\n      <td>False</td>\n      <td>False</td>\n    </tr>\n    <tr>\n      <th>9</th>\n      <td>67000</td>\n      <td>22000</td>\n      <td>6</td>\n      <td>False</td>\n      <td>True</td>\n    </tr>\n    <tr>\n      <th>10</th>\n      <td>83000</td>\n      <td>20000</td>\n      <td>7</td>\n      <td>False</td>\n      <td>True</td>\n    </tr>\n    <tr>\n      <th>11</th>\n      <td>79000</td>\n      <td>21000</td>\n      <td>7</td>\n      <td>False</td>\n      <td>True</td>\n    </tr>\n    <tr>\n      <th>12</th>\n      <td>59000</td>\n      <td>33000</td>\n      <td>5</td>\n      <td>False</td>\n      <td>True</td>\n    </tr>\n  </tbody>\n</table>\n</div>"
     },
     "execution_count": 7,
     "metadata": {},
     "output_type": "execute_result"
    }
   ],
   "source": [
    "finalDF = mergedDF.drop(['Car Model', 'Audi A5'], axis='columns')\n",
    "finalDF"
   ],
   "metadata": {
    "collapsed": false,
    "ExecuteTime": {
     "end_time": "2023-09-26T19:37:14.682407500Z",
     "start_time": "2023-09-26T19:37:14.658699300Z"
    }
   },
   "id": "b1ec2cbe0ae749f5"
  },
  {
   "cell_type": "code",
   "execution_count": 8,
   "outputs": [
    {
     "data": {
      "text/plain": "    Mileage  Age(yrs)  BMW X5  Mercedez Benz C class\n0     69000         6    True                  False\n1     35000         3    True                  False\n2     57000         5    True                  False\n3     22500         2    True                  False\n4     46000         4    True                  False\n5     59000         5   False                  False\n6     52000         5   False                  False\n7     72000         6   False                  False\n8     91000         8   False                  False\n9     67000         6   False                   True\n10    83000         7   False                   True\n11    79000         7   False                   True\n12    59000         5   False                   True",
      "text/html": "<div>\n<style scoped>\n    .dataframe tbody tr th:only-of-type {\n        vertical-align: middle;\n    }\n\n    .dataframe tbody tr th {\n        vertical-align: top;\n    }\n\n    .dataframe thead th {\n        text-align: right;\n    }\n</style>\n<table border=\"1\" class=\"dataframe\">\n  <thead>\n    <tr style=\"text-align: right;\">\n      <th></th>\n      <th>Mileage</th>\n      <th>Age(yrs)</th>\n      <th>BMW X5</th>\n      <th>Mercedez Benz C class</th>\n    </tr>\n  </thead>\n  <tbody>\n    <tr>\n      <th>0</th>\n      <td>69000</td>\n      <td>6</td>\n      <td>True</td>\n      <td>False</td>\n    </tr>\n    <tr>\n      <th>1</th>\n      <td>35000</td>\n      <td>3</td>\n      <td>True</td>\n      <td>False</td>\n    </tr>\n    <tr>\n      <th>2</th>\n      <td>57000</td>\n      <td>5</td>\n      <td>True</td>\n      <td>False</td>\n    </tr>\n    <tr>\n      <th>3</th>\n      <td>22500</td>\n      <td>2</td>\n      <td>True</td>\n      <td>False</td>\n    </tr>\n    <tr>\n      <th>4</th>\n      <td>46000</td>\n      <td>4</td>\n      <td>True</td>\n      <td>False</td>\n    </tr>\n    <tr>\n      <th>5</th>\n      <td>59000</td>\n      <td>5</td>\n      <td>False</td>\n      <td>False</td>\n    </tr>\n    <tr>\n      <th>6</th>\n      <td>52000</td>\n      <td>5</td>\n      <td>False</td>\n      <td>False</td>\n    </tr>\n    <tr>\n      <th>7</th>\n      <td>72000</td>\n      <td>6</td>\n      <td>False</td>\n      <td>False</td>\n    </tr>\n    <tr>\n      <th>8</th>\n      <td>91000</td>\n      <td>8</td>\n      <td>False</td>\n      <td>False</td>\n    </tr>\n    <tr>\n      <th>9</th>\n      <td>67000</td>\n      <td>6</td>\n      <td>False</td>\n      <td>True</td>\n    </tr>\n    <tr>\n      <th>10</th>\n      <td>83000</td>\n      <td>7</td>\n      <td>False</td>\n      <td>True</td>\n    </tr>\n    <tr>\n      <th>11</th>\n      <td>79000</td>\n      <td>7</td>\n      <td>False</td>\n      <td>True</td>\n    </tr>\n    <tr>\n      <th>12</th>\n      <td>59000</td>\n      <td>5</td>\n      <td>False</td>\n      <td>True</td>\n    </tr>\n  </tbody>\n</table>\n</div>"
     },
     "execution_count": 8,
     "metadata": {},
     "output_type": "execute_result"
    }
   ],
   "source": [
    "x = finalDF.drop('Sell Price($)', axis='columns')\n",
    "x"
   ],
   "metadata": {
    "collapsed": false,
    "ExecuteTime": {
     "end_time": "2023-09-26T19:38:44.186760800Z",
     "start_time": "2023-09-26T19:38:44.151728700Z"
    }
   },
   "id": "ce7a222bdfa3ae05"
  },
  {
   "cell_type": "code",
   "execution_count": 9,
   "outputs": [
    {
     "data": {
      "text/plain": "0     18000\n1     34000\n2     26100\n3     40000\n4     31500\n5     29400\n6     32000\n7     19300\n8     12000\n9     22000\n10    20000\n11    21000\n12    33000\nName: Sell Price($), dtype: int64"
     },
     "execution_count": 9,
     "metadata": {},
     "output_type": "execute_result"
    }
   ],
   "source": [
    "y = finalDF['Sell Price($)']\n",
    "y"
   ],
   "metadata": {
    "collapsed": false,
    "ExecuteTime": {
     "end_time": "2023-09-26T19:39:07.401281100Z",
     "start_time": "2023-09-26T19:39:07.386267200Z"
    }
   },
   "id": "b0c8e59c709e237f"
  },
  {
   "cell_type": "code",
   "execution_count": 11,
   "outputs": [
    {
     "data": {
      "text/plain": "LinearRegression()",
      "text/html": "<style>#sk-container-id-1 {color: black;}#sk-container-id-1 pre{padding: 0;}#sk-container-id-1 div.sk-toggleable {background-color: white;}#sk-container-id-1 label.sk-toggleable__label {cursor: pointer;display: block;width: 100%;margin-bottom: 0;padding: 0.3em;box-sizing: border-box;text-align: center;}#sk-container-id-1 label.sk-toggleable__label-arrow:before {content: \"▸\";float: left;margin-right: 0.25em;color: #696969;}#sk-container-id-1 label.sk-toggleable__label-arrow:hover:before {color: black;}#sk-container-id-1 div.sk-estimator:hover label.sk-toggleable__label-arrow:before {color: black;}#sk-container-id-1 div.sk-toggleable__content {max-height: 0;max-width: 0;overflow: hidden;text-align: left;background-color: #f0f8ff;}#sk-container-id-1 div.sk-toggleable__content pre {margin: 0.2em;color: black;border-radius: 0.25em;background-color: #f0f8ff;}#sk-container-id-1 input.sk-toggleable__control:checked~div.sk-toggleable__content {max-height: 200px;max-width: 100%;overflow: auto;}#sk-container-id-1 input.sk-toggleable__control:checked~label.sk-toggleable__label-arrow:before {content: \"▾\";}#sk-container-id-1 div.sk-estimator input.sk-toggleable__control:checked~label.sk-toggleable__label {background-color: #d4ebff;}#sk-container-id-1 div.sk-label input.sk-toggleable__control:checked~label.sk-toggleable__label {background-color: #d4ebff;}#sk-container-id-1 input.sk-hidden--visually {border: 0;clip: rect(1px 1px 1px 1px);clip: rect(1px, 1px, 1px, 1px);height: 1px;margin: -1px;overflow: hidden;padding: 0;position: absolute;width: 1px;}#sk-container-id-1 div.sk-estimator {font-family: monospace;background-color: #f0f8ff;border: 1px dotted black;border-radius: 0.25em;box-sizing: border-box;margin-bottom: 0.5em;}#sk-container-id-1 div.sk-estimator:hover {background-color: #d4ebff;}#sk-container-id-1 div.sk-parallel-item::after {content: \"\";width: 100%;border-bottom: 1px solid gray;flex-grow: 1;}#sk-container-id-1 div.sk-label:hover label.sk-toggleable__label {background-color: #d4ebff;}#sk-container-id-1 div.sk-serial::before {content: \"\";position: absolute;border-left: 1px solid gray;box-sizing: border-box;top: 0;bottom: 0;left: 50%;z-index: 0;}#sk-container-id-1 div.sk-serial {display: flex;flex-direction: column;align-items: center;background-color: white;padding-right: 0.2em;padding-left: 0.2em;position: relative;}#sk-container-id-1 div.sk-item {position: relative;z-index: 1;}#sk-container-id-1 div.sk-parallel {display: flex;align-items: stretch;justify-content: center;background-color: white;position: relative;}#sk-container-id-1 div.sk-item::before, #sk-container-id-1 div.sk-parallel-item::before {content: \"\";position: absolute;border-left: 1px solid gray;box-sizing: border-box;top: 0;bottom: 0;left: 50%;z-index: -1;}#sk-container-id-1 div.sk-parallel-item {display: flex;flex-direction: column;z-index: 1;position: relative;background-color: white;}#sk-container-id-1 div.sk-parallel-item:first-child::after {align-self: flex-end;width: 50%;}#sk-container-id-1 div.sk-parallel-item:last-child::after {align-self: flex-start;width: 50%;}#sk-container-id-1 div.sk-parallel-item:only-child::after {width: 0;}#sk-container-id-1 div.sk-dashed-wrapped {border: 1px dashed gray;margin: 0 0.4em 0.5em 0.4em;box-sizing: border-box;padding-bottom: 0.4em;background-color: white;}#sk-container-id-1 div.sk-label label {font-family: monospace;font-weight: bold;display: inline-block;line-height: 1.2em;}#sk-container-id-1 div.sk-label-container {text-align: center;}#sk-container-id-1 div.sk-container {/* jupyter's `normalize.less` sets `[hidden] { display: none; }` but bootstrap.min.css set `[hidden] { display: none !important; }` so we also need the `!important` here to be able to override the default hidden behavior on the sphinx rendered scikit-learn.org. See: https://github.com/scikit-learn/scikit-learn/issues/21755 */display: inline-block !important;position: relative;}#sk-container-id-1 div.sk-text-repr-fallback {display: none;}</style><div id=\"sk-container-id-1\" class=\"sk-top-container\"><div class=\"sk-text-repr-fallback\"><pre>LinearRegression()</pre><b>In a Jupyter environment, please rerun this cell to show the HTML representation or trust the notebook. <br />On GitHub, the HTML representation is unable to render, please try loading this page with nbviewer.org.</b></div><div class=\"sk-container\" hidden><div class=\"sk-item\"><div class=\"sk-estimator sk-toggleable\"><input class=\"sk-toggleable__control sk-hidden--visually\" id=\"sk-estimator-id-1\" type=\"checkbox\" checked><label for=\"sk-estimator-id-1\" class=\"sk-toggleable__label sk-toggleable__label-arrow\">LinearRegression</label><div class=\"sk-toggleable__content\"><pre>LinearRegression()</pre></div></div></div></div></div>"
     },
     "execution_count": 11,
     "metadata": {},
     "output_type": "execute_result"
    }
   ],
   "source": [
    "model = LinearRegression()\n",
    "model.fit(x,y)"
   ],
   "metadata": {
    "collapsed": false,
    "ExecuteTime": {
     "end_time": "2023-09-26T19:40:34.523098100Z",
     "start_time": "2023-09-26T19:40:34.507082800Z"
    }
   },
   "id": "a3dd75c4e647ea3d"
  },
  {
   "cell_type": "code",
   "execution_count": 16,
   "outputs": [
    {
     "name": "stderr",
     "output_type": "stream",
     "text": [
      "c:\\users\\danilo\\pycharmprojects\\machinelearning1\\venv\\lib\\site-packages\\sklearn\\base.py:465: UserWarning: X does not have valid feature names, but LinearRegression was fitted with feature names\n",
      "  warnings.warn(\n"
     ]
    },
    {
     "data": {
      "text/plain": "array([36991.31721061])"
     },
     "execution_count": 16,
     "metadata": {},
     "output_type": "execute_result"
    }
   ],
   "source": [
    "model.predict([[45000, 4, False, True]])"
   ],
   "metadata": {
    "collapsed": false,
    "ExecuteTime": {
     "end_time": "2023-09-26T19:48:01.983755Z",
     "start_time": "2023-09-26T19:48:01.958731600Z"
    }
   },
   "id": "8802af1f84ad7663"
  },
  {
   "cell_type": "code",
   "execution_count": 17,
   "outputs": [
    {
     "name": "stderr",
     "output_type": "stream",
     "text": [
      "c:\\users\\danilo\\pycharmprojects\\machinelearning1\\venv\\lib\\site-packages\\sklearn\\base.py:465: UserWarning: X does not have valid feature names, but LinearRegression was fitted with feature names\n",
      "  warnings.warn(\n"
     ]
    },
    {
     "data": {
      "text/plain": "array([11080.74313219])"
     },
     "execution_count": 17,
     "metadata": {},
     "output_type": "execute_result"
    }
   ],
   "source": [
    "model.predict([[86000, 7, True, False]])"
   ],
   "metadata": {
    "collapsed": false,
    "ExecuteTime": {
     "end_time": "2023-09-26T19:48:04.188027Z",
     "start_time": "2023-09-26T19:48:04.179018500Z"
    }
   },
   "id": "fcfd22c751676df5"
  },
  {
   "cell_type": "code",
   "execution_count": 15,
   "outputs": [
    {
     "data": {
      "text/plain": "0.9417050937281082"
     },
     "execution_count": 15,
     "metadata": {},
     "output_type": "execute_result"
    }
   ],
   "source": [
    "model.score(x,y)"
   ],
   "metadata": {
    "collapsed": false,
    "ExecuteTime": {
     "end_time": "2023-09-26T19:44:57.841449900Z",
     "start_time": "2023-09-26T19:44:57.822433300Z"
    }
   },
   "id": "cc07243d0f74a0"
  }
 ],
 "metadata": {
  "kernelspec": {
   "display_name": "Python 3",
   "language": "python",
   "name": "python3"
  },
  "language_info": {
   "codemirror_mode": {
    "name": "ipython",
    "version": 2
   },
   "file_extension": ".py",
   "mimetype": "text/x-python",
   "name": "python",
   "nbconvert_exporter": "python",
   "pygments_lexer": "ipython2",
   "version": "2.7.6"
  }
 },
 "nbformat": 4,
 "nbformat_minor": 5
}
